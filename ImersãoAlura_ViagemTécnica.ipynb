{
  "nbformat": 4,
  "nbformat_minor": 0,
  "metadata": {
    "colab": {
      "provenance": [],
      "authorship_tag": "ABX9TyM7OcRwhboekZA28kpcB329",
      "include_colab_link": true
    },
    "kernelspec": {
      "name": "python3",
      "display_name": "Python 3"
    },
    "language_info": {
      "name": "python"
    }
  },
  "cells": [
    {
      "cell_type": "markdown",
      "metadata": {
        "id": "view-in-github",
        "colab_type": "text"
      },
      "source": [
        "<a href=\"https://colab.research.google.com/github/GuzAnd777/Imersao_Alura_Gemini/blob/main/Imers%C3%A3oAlura_ViagemT%C3%A9cnica.ipynb\" target=\"_parent\"><img src=\"https://colab.research.google.com/assets/colab-badge.svg\" alt=\"Open In Colab\"/></a>"
      ]
    },
    {
      "cell_type": "code",
      "execution_count": 249,
      "metadata": {
        "id": "wPMraiFR6pFR"
      },
      "outputs": [],
      "source": [
        "%pip -q install google-genai"
      ]
    },
    {
      "cell_type": "code",
      "source": [
        "# Configurando a API Key do Google Gemini\n",
        "\n",
        "import os\n",
        "from google.colab import userdata\n",
        "\n",
        "os.environ[\"GOOGLE_API_KEY\"] = userdata.get('GOOGLE_API_KEY')"
      ],
      "metadata": {
        "id": "kqsV5Uig6uTl"
      },
      "execution_count": 250,
      "outputs": []
    },
    {
      "cell_type": "code",
      "source": [
        "# Configura o cliente da SDK do Gemini\n",
        "\n",
        "from google import genai\n",
        "\n",
        "client = genai.Client()\n",
        "\n",
        "MODEL_ID = \"gemini-2.0-flash\""
      ],
      "metadata": {
        "id": "6V1FfZ_x6yq8"
      },
      "execution_count": 251,
      "outputs": []
    },
    {
      "cell_type": "code",
      "source": [
        "# Instalar Framework de agentes do Google\n",
        "\n",
        "!pip install -q google-adk"
      ],
      "metadata": {
        "id": "ObuPuqe868mM"
      },
      "execution_count": 252,
      "outputs": []
    },
    {
      "cell_type": "code",
      "source": [
        "from google.adk.agents import Agent\n",
        "from google.adk.runners import Runner\n",
        "from google.adk.sessions import InMemorySessionService\n",
        "from google.adk.tools import google_search\n",
        "from google.adk.tools import google_search\n",
        "from google.genai import types  # Para criar conteúdos (Content e Part)\n",
        "from datetime import date\n",
        "import textwrap # Para formatar melhor a saída de texto\n",
        "from IPython.display import display, Markdown # Para exibir texto formatado no Colab\n",
        "import requests # Para fazer requisições HTTP\n",
        "import warnings\n",
        "\n",
        "warnings.filterwarnings(\"ignore\")"
      ],
      "metadata": {
        "id": "0ILhGrC07KrO"
      },
      "execution_count": 253,
      "outputs": []
    },
    {
      "cell_type": "code",
      "source": [
        "# Função auxiliar que envia uma mensagem para um agente via Runner e retorna a resposta final\n",
        "def call_agent(agent: Agent, message_text: str) -> str:\n",
        "    # Cria um serviço de sessão em memória\n",
        "    session_service = InMemorySessionService()\n",
        "    # Cria uma nova sessão (você pode personalizar os IDs conforme necessário)\n",
        "    session = session_service.create_session(app_name=agent.name, user_id=\"user1\", session_id=\"session1\")\n",
        "    # Cria um Runner para o agente\n",
        "    runner = Runner(agent=agent, app_name=agent.name, session_service=session_service)\n",
        "    # Cria o conteúdo da mensagem de entrada\n",
        "    content = types.Content(role=\"user\", parts=[types.Part(text=message_text)])\n",
        "\n",
        "    final_response = \"\"\n",
        "    # Itera assincronamente pelos eventos retornados durante a execução do agente\n",
        "    for event in runner.run(user_id=\"user1\", session_id=\"session1\", new_message=content):\n",
        "        if event.is_final_response():\n",
        "          for part in event.content.parts:\n",
        "            if part.text is not None:\n",
        "              final_response += part.text\n",
        "              final_response += \"\\n\"\n",
        "    return final_response"
      ],
      "metadata": {
        "id": "0vgEAwUO8IwY"
      },
      "execution_count": 254,
      "outputs": []
    },
    {
      "cell_type": "code",
      "source": [
        "# Função auxiliar para exibir texto formatado em Markdown no Colab\n",
        "def to_markdown(text):\n",
        "  text = text.replace('•', '  *')\n",
        "  return Markdown(textwrap.indent(text, '> ', predicate=lambda _: True))"
      ],
      "metadata": {
        "id": "_5bcLevp8KzI"
      },
      "execution_count": 255,
      "outputs": []
    },
    {
      "cell_type": "code",
      "source": [
        "# --- Constantes ---\n",
        "CEP_ORIGEM_EMPRESA = \"88701-180\"\n",
        "CIDADE_ORIGEM_EMPRESA = \"Tubarão, Santa Catarina\""
      ],
      "metadata": {
        "id": "WaZdgeNaSkwd"
      },
      "execution_count": 256,
      "outputs": []
    },
    {
      "cell_type": "code",
      "source": [
        "# Agente 1: agente_trajeto (Mantido, já inclui Cidade/Estado de destino)\n",
        "def agente_trajeto (cep_destino_cliente, data_de_hoje_str):\n",
        "    agente = Agent(\n",
        "        name=\"agente_trajeto\",\n",
        "        model=\"gemini-2.0-flash\",\n",
        "        instruction=f\"\"\"\n",
        "        Você é um assistente de pesquisa de viagens. Sua tarefa é usar a ferramenta de busca (google_search)\n",
        "        para determinar o trajeto e a logística inicial.\n",
        "\n",
        "        Diretrizes mandatórias:\n",
        "        1.  Ponto de partida: {CIDADE_ORIGEM_EMPRESA} (CEP: {CEP_ORIGEM_EMPRESA}).\n",
        "        2.  Pesquise a **cidade e estado** correspondentes ao CEP de destino: {cep_destino_cliente}.\n",
        "        3.  Transporte (ida e volta):\n",
        "            *   Destinos próximos (até 4 horas de carro) no mesmo estado (Santa Catarina): Carro.\n",
        "            *   Destinos distantes no mesmo estado (Santa Catarina): Ônibus.\n",
        "            *   Destinos em outro estado: Carro até Aeroporto de Florianópolis (FLN), depois avião para\n",
        "            aeroporto mais próximo do destino.\n",
        "        4.  Janela de partida: A partir das 12h de segunda-feira. Última saída de Tubarão: quarta-feira\n",
        "        às 12h.\n",
        "            *   Para voos, chegar ao aeroporto de embarque com 3 horas de antecedência.\n",
        "        5.  Manutenção: Sempre às 8h da manhã no local do cliente.\n",
        "            *   Se chegar na cidade de destino APÓS as 8h, manutenção no dia seguinte, com hospedagem.\n",
        "        6.  Retorno: Após as 18h do dia da manutenção, ou dia seguinte se não for possível retornar no mesmo dia.\n",
        "        7.  Viagem: Ocorrerá uma semana após a data da solicitação ({data_de_hoje_str}), respeitando a\n",
        "        janela de partida. Calcule as datas exatas de partida e retorno.\n",
        "\n",
        "        Sua Saída DEVE INCLUIR (formate em Markdown):\n",
        "        ## Planejamento do Trajeto Inicial\n",
        "        - **Data da Solicitação:** {data_de_hoje_str}\n",
        "        - **CEP do Cliente:** {cep_destino_cliente}\n",
        "        - **Cidade e Estado de Destino:** [Resultado da pesquisa - IMPORTANTE PARA O AGENTE DE SAÚDE]\n",
        "        ---\n",
        "        - **DATA DE PARTIDA DA VIAGEM (DE TUBARÃO):** [DD/MM/AAAA]\n",
        "        - **HORÁRIO DE PARTIDA ESTIMADO (DE TUBARÃO):** [HH:MM]\n",
        "        - **DATA DE CHEGADA ESTIMADA (NO DESTINO):** [DD/MM/AAAA]\n",
        "        - **HORÁRIO DE CHEGADA ESTIMADO (NO DESTINO):** [HH:MM]\n",
        "        ---\n",
        "        - **DATA DE PARTIDA DO RETORNO (DO DESTINO):** [DD/MM/AAAA]\n",
        "        - **HORÁRIO DE PARTIDA ESTIMADO (DO DESTINO):** [HH:MM]\n",
        "        - **DATA DE CHEGADA ESTIMADA (EM TUBARÃO - FINAL):** [DD/MM/AAAA]\n",
        "        - **HORÁRIO DE CHEGADA ESTIMADO (EM TUBARÃO - FINAL):** [HH:MM]\n",
        "        ---\n",
        "        - **Meios de Transporte Utilizados (Ida e Volta):** [Ex: Carro até FLN, depois Avião]\n",
        "        - **Estimativa de Dias Fora:** [Número de dias]\n",
        "        - **Necessidade de Hospedagem:** [Sim/Não]\n",
        "        - **Observações do Trajeto:** [Qualquer informação adicional relevante]\n",
        "        \"\"\",\n",
        "        description=\"Agente que busca informações iniciais sobre o trajeto, incluindo cidade/estado de destino.\",\n",
        "        tools=[google_search]\n",
        "    )\n",
        "    entrada_agente = f\"CEP do cliente: {cep_destino_cliente}\\nData da solicitação: {data_de_hoje_str}\"\n",
        "    resultado_trajeto = call_agent(agente, entrada_agente)\n",
        "    return resultado_trajeto"
      ],
      "metadata": {
        "id": "LQyF1FZe8OU-"
      },
      "execution_count": 257,
      "outputs": []
    },
    {
      "cell_type": "code",
      "source": [
        "# Agente 2: Itinerário Detalhado (Foco em opções, não necessariamente o custo final)\n",
        "def agente_itinerario(cep_destino_cliente, info_trajeto_str):\n",
        "    agente = Agent(\n",
        "        name=\"agente_itinerario\",\n",
        "        model=\"gemini-2.0-flash\",\n",
        "        instruction=f\"\"\"\n",
        "        Você é um especialista em montar itinerários de viagem no Brasil.\n",
        "        Analise CUIDADOSAMENTE as seguintes informações do planejamento de trajeto inicial, que contêm as\n",
        "        DATAS EXATAS para a viagem:\n",
        "        --- INÍCIO INFORMAÇÕES DO TRAJETO ---\n",
        "        {info_trajeto_str}\n",
        "        --- FIM INFORMAÇÕES DO TRAJETO ---\n",
        "\n",
        "        Suas tarefas:\n",
        "        1.  EXTRAIA as datas de partida e retorno do texto acima.\n",
        "        2.  Se a viagem incluir avião:\n",
        "            *   Sua prioridade é encontrar opções de voos NAS COMPANHIAS LATAM E AZUL para as DATAS EXTRAÍDAS.\n",
        "            *   Pesquise usando 'google_search' com termos como `voos [origem] para [destino] Latam [data_ida] [data_volta]\n",
        "            site:latamairlines.com`.\n",
        "         3.  Se a viagem incluir ônibus:\n",
        "            *   Pesquise opções de ônibus para as DATAS EXTRAÍDAS. Mencione companhias.\n",
        "        4.  Se a viagem incluir carro:\n",
        "            *   Liste os pedágios e uma estimativa de seus valores.\n",
        "        5.  Se o técnico for usar Uber na cidade de destino:\n",
        "            *   Forneça uma estimativa de quantas viagens poderão ser realizadas para os trechos prováveis.\n",
        "\n",
        "        ---\n",
        "        **INSTRUÇÕES DE FORMATAÇÃO DA SAÍDA (Markdown):**\n",
        "        ## 1. Opções de Passagens ([Origem] - [Destino])\n",
        "        ### Opção Principal Aérea/Ônibus: [Nome da Companhia/Fonte]\n",
        "        - **Rota:** [Ex: Florianópolis (FLN) para Macapá (MCP)]\n",
        "        - **Datas Pesquisadas:** IDA: [DATA EXTRAÍDA], VOLTA: [DATA EXTRAÍDA]\n",
        "        - **Observações:** [Ex: \"Este é um preço estimado e sujeito a alterações.\" ou \"Opção encontrada em [site].\"]\n",
        "\n",
        "        ## 2. Pedágios (Trecho: [Ex: Tubarão, SC - Aeroporto de Florianópolis, SC])\n",
        "        - **Praças de Pedágio Encontradas (Estimativa):** (Liste)\n",
        "        ---\n",
        "        Priorize encontrar as opções de transporte.\n",
        "        \"\"\",\n",
        "        description=\"Agente que detalha opções de transporte e estimativas.\",\n",
        "        tools=[google_search]\n",
        "    )\n",
        "    entrada_agente = f\"CEP do cliente: {cep_destino_cliente}\\nInformações do Trajeto Base: {info_trajeto_str}\"\n",
        "    resultado_itinerario = call_agent(agente, entrada_agente)\n",
        "    return resultado_itinerario"
      ],
      "metadata": {
        "id": "l2qHB4KbWzsk"
      },
      "execution_count": 258,
      "outputs": []
    },
    {
      "cell_type": "code",
      "source": [
        "# Agente 3: Hospedagem (Foco em encontrar opções, não necessariamente o custo final)\n",
        "def agente_hospedagem(cep_destino_cliente, info_trajeto_str): # Não precisa mais do info_itinerario_str se o foco não é custo.\n",
        "    agente = Agent(\n",
        "        name=\"agente_hospedagem\",\n",
        "        model=\"gemini-2.0-flash\",\n",
        "        instruction=f\"\"\"\n",
        "        Você é um especialista em encontrar sugestões de hospedagem.\n",
        "        Informações do trajeto: {info_trajeto_str}\n",
        "\n",
        "        Tarefa:\n",
        "        1. Verifique no `info_trajeto_str` se a hospedagem é necessária (campo \"Necessidade de Hospedagem:\").\n",
        "        2. Se SIM:\n",
        "            *   Use 'google_search' para encontrar um hotel com boas indicações na cidade de destino\n",
        "            (identificada no `info_trajeto_str`).\n",
        "            *   O hotel deve estar a no máximo 2km do local do cliente (CEP: {cep_destino_cliente}).\n",
        "            *   Indique o nome do hotel e, se encontrar, uma estimativa de diária com a ressalva de que\n",
        "            precisa ser confirmada.\n",
        "        3. Se NÃO: Indique que a hospedagem não é necessária.\n",
        "\n",
        "        ---\n",
        "        **INSTRUÇÕES DE FORMATAÇÃO DA SAÍDA (Markdown):**\n",
        "        **Caso a hospedagem SEJA necessária:**\n",
        "        ## Sugestão de Hospedagem\n",
        "        - **Necessidade de Hospedagem:** Sim\n",
        "        - **Hotel Sugerido:** [Nome do Hotel]\n",
        "        - **Endereço (se encontrado):** [Endereço]\n",
        "        - **Valor Estimado da Diária (se encontrado):** R$ [Valor (Estimativa, confirmar)]\n",
        "        - **Observações:** [Ex: \"Hotel bem avaliado próximo ao cliente.\"]\n",
        "\n",
        "        **Caso a hospedagem NÃO SEJA necessária:**\n",
        "        ## Sugestão de Hospedagem\n",
        "        - **Necessidade de Hospedagem:** Não\n",
        "        - **Hotel Sugerido:** N/A\n",
        "        ---\n",
        "        \"\"\",\n",
        "        description=\"Agente que busca sugestões de hospedagem.\",\n",
        "        tools=[google_search]\n",
        "    )\n",
        "    entrada_agente = f\"CEP do cliente: {cep_destino_cliente}\\nTrajeto: {info_trajeto_str}\"\n",
        "    resultado_hospedagem = call_agent(agente, entrada_agente)\n",
        "    return resultado_hospedagem"
      ],
      "metadata": {
        "id": "vScYGT4tplHI"
      },
      "execution_count": 259,
      "outputs": []
    },
    {
      "cell_type": "code",
      "source": [
        "# Agente 4: Alimentação (Mantido como antes)\n",
        "def agente_alimentacao(info_trajeto_str):\n",
        "    agente = Agent(\n",
        "        name=\"agente_alimentacao\",\n",
        "        model=\"gemini-2.0-flash\",\n",
        "        instruction=f\"\"\"\n",
        "        Você auxilia o técnico a calcular o número de refeições durante suas viagens.\n",
        "        O técnico tem direito a uma refeição por período do dia em que está em trânsito ou no\n",
        "        local de destino: manhã, tarde e noite.\n",
        "        Com base nas informações do trajeto (principalmente \"dias fora\" e horários\n",
        "        de partida/chegada):\n",
        "        {info_trajeto_str}\n",
        "        Sua tarefa: Contabilizar o número total de refeições.\n",
        "        Sua Saída DEVE INCLUIR (Markdown):\n",
        "        - **Número total de refeições:** [Número]\n",
        "        \"\"\",\n",
        "        description=\"Agente que calcula o número total de refeições.\",\n",
        "        tools=[]\n",
        "    )\n",
        "    entrada_agente = f\"Informações do Trajeto: {info_trajeto_str}\"\n",
        "    resultado_alimentacao = call_agent(agente, entrada_agente)\n",
        "    return resultado_alimentacao"
      ],
      "metadata": {
        "id": "WrEuyu2I_0oJ"
      },
      "execution_count": 260,
      "outputs": []
    },
    {
      "cell_type": "code",
      "source": [
        "# Agente 5: Saúde\n",
        "def agente_saude(info_trajeto_str): # Precisa da cidade/estado do info_trajeto\n",
        "    agente = Agent(\n",
        "        name=\"agente_saude\",\n",
        "        model=\"gemini-2.0-flash\",\n",
        "        instruction=f\"\"\"\n",
        "        Você é um assistente de saúde para viajantes.\n",
        "        Com base nas informações do trajeto, especialmente a **Cidade e Estado de Destino**:\n",
        "        --- INÍCIO INFORMAÇÕES DO TRAJETO ---\n",
        "        {info_trajeto_str}\n",
        "        --- FIM INFORMAÇÕES DO TRAJETO ---\n",
        "\n",
        "        Sua tarefa é:\n",
        "        1. Identificar a Cidade e Estado de destino no texto acima.\n",
        "        2. Usar a ferramenta 'google_search' para pesquisar recomendações de saúde específicas\n",
        "        para essa localidade no Brasil.\n",
        "           Busque por:\n",
        "           - Vacinas recomendadas ou obrigatórias.\n",
        "           - Riscos de doenças transmitidas por mosquitos (Dengue, Zika, Chikungunya,\n",
        "           Febre Amarela, Malária).\n",
        "           - Precauções com água e alimentos.\n",
        "           - Outras dicas de saúde relevantes para viajantes naquela região.\n",
        "        3.  Sempre inclua uma recomendação para que o viajante consulte um médico ou um\n",
        "        Centro de Orientação ao Viajante antes da viagem para aconselhamento personalizado.\n",
        "\n",
        "        ---\n",
        "        **INSTRUÇÕES DE FORMATAÇÃO DA SAÍDA (Markdown):**\n",
        "        ## Recomendações de Saúde para [Cidade Destino], [Estado Destino]\n",
        "\n",
        "        - **Vacinas Recomendadas/Obrigatórias:**\n",
        "            - [Vacina 1]: [Breve descrição/recomendação]\n",
        "            - [Vacina 2]: [Breve descrição/recomendação]\n",
        "            - (liste todas as relevantes)\n",
        "        - **Precauções Contra Doenças Transmitidas por Mosquitos:**\n",
        "            - [Doença 1]: [Precauções específicas ou nível de risco]\n",
        "            - [Doença 2]: [Precauções específicas ou nível de risco]\n",
        "            - Dicas gerais: [Ex: Uso de repelente, roupas adequadas]\n",
        "        - **Cuidados com Água e Alimentos:**\n",
        "            - [Principais recomendações]\n",
        "        - **Outras Dicas de Saúde:**\n",
        "            - [Dicas adicionais]\n",
        "        ---\n",
        "        **Atenção:** Estas são recomendações gerais. É fundamental que o técnico **consulte\n",
        "        um médico ou um Centro de Orientação ao Viajante antes da viagem** para obter\n",
        "        aconselhamento de saúde personalizado e atualizado para a região de destino.\n",
        "        ---\n",
        "        \"\"\",\n",
        "        description=\"Agente que pesquisa recomendações de saúde para o local de destino.\",\n",
        "        tools=[google_search]\n",
        "    )\n",
        "    entrada_agente = f\"Informações do Trajeto (para identificar destino): {info_trajeto_str}\"\n",
        "    resultado_saude = call_agent(agente, entrada_agente)\n",
        "    return resultado_saude"
      ],
      "metadata": {
        "id": "H8u7pLnZDB7y"
      },
      "execution_count": 261,
      "outputs": []
    },
    {
      "cell_type": "code",
      "source": [
        "# Agente 6: Revisão (Ajustado para focar na logística e saúde)\n",
        "def agente_revisao(info_trajeto_str, info_itinerario_str, info_hospedagem_str, info_alimentacao_str, info_saude_str):\n",
        "    agente = Agent(\n",
        "        name=\"agente_revisao\",\n",
        "        model=\"gemini-2.0-flash\",\n",
        "        instruction=f\"\"\"\n",
        "        Você é um especialista em conferência de planejamento de viagens.\n",
        "        Dados para revisão:\n",
        "        - Trajeto: {info_trajeto_str}\n",
        "        - Itinerário: {info_itinerario_str}\n",
        "        - Hospedagem: {info_hospedagem_str}\n",
        "        - Alimentação: {info_alimentacao_str}\n",
        "        - Recomendações de Saúde: {info_saude_str}\n",
        "\n",
        "        Tarefas de Revisão:\n",
        "        1.  **Consistência Geral:** Verifique se as informações entre as etapas são consistentes\n",
        "         (ex: necessidade de hospedagem, horários).\n",
        "        2.  **Aderência às Diretrizes:** Confirme se o planejamento segue as diretrizes da empresa\n",
        "         (transporte, horários).\n",
        "        3.  **Recomendações de Saúde:** Avalie se as recomendações de saúde são claras, relevantes\n",
        "         para o destino (identificado no `info_trajeto_str`) e incluem o aviso para consulta médica.\n",
        "        4.  **Viabilidade Geral:** O planejamento como um todo parece viável e completo?\n",
        "\n",
        "        ---\n",
        "        **INSTRUÇÕES DE FORMATAÇÃO DA SAÍDA (Markdown):**\n",
        "        ## Relatório de Revisão do Planejamento de Viagem\n",
        "\n",
        "        ### Status Geral da Revisão:\n",
        "        - [Ex: \"Planejamento Aprovado\" ou \"Aprovado com Observações\" ou \"Requer Ajustes\"]\n",
        "\n",
        "        ---\n",
        "        ### Pontos Verificados e Comentários:\n",
        "        1.  **Consistência e Lógica do Planejamento (Trajeto, Itinerário, Hospedagem, Alimentação):**\n",
        "            - **Status:** [Ex: OK / Atenção Necessária]\n",
        "            - **Comentário:** [Seus comentários sobre a logística]\n",
        "        2.  **Aderência às Diretrizes da Empresa:**\n",
        "            - **Status:** [Ex: OK / Não Conforme]\n",
        "            - **Comentário:** [Seus comentários]\n",
        "        3.  **Recomendações de Saúde:**\n",
        "            - **Status:** [Ex: Adequadas / Incompletas / Revisar]\n",
        "            - **Comentário:** [Ex: \"Recomendações de saúde para [Cidade/Estado] parecem completas\n",
        "            e o alerta para consulta médica está presente.\"]\n",
        "        ### Recomendações / Ações Necessárias (se houver):\n",
        "        - [Listar ações]\n",
        "        ---\n",
        "        **Conclusão da Revisão:** [Frase final]\n",
        "        \"\"\",\n",
        "        description=\"Agente que revisa o planejamento da viagem com foco na logística e saúde.\",\n",
        "        tools=[] # Principalmente análise dos inputs\n",
        "    )\n",
        "    entrada_agente = f\"Trajeto: {info_trajeto_str}\\nItinerário: {info_itinerario_str}\\nHospedagem: {info_hospedagem_str}\\nAlimentação: {info_alimentacao_str}\\nSaúde: {info_saude_str}\"\n",
        "    resultado_revisao = call_agent(agente, entrada_agente)\n",
        "    return resultado_revisao"
      ],
      "metadata": {
        "id": "CTVbtVDiFdRe"
      },
      "execution_count": 262,
      "outputs": []
    },
    {
      "cell_type": "code",
      "source": [
        "# Agente 7: Relatorio (Ajustado para incluir saúde e remover custos detalhados)\n",
        "def agente_relatorio(cep_destino_cliente, info_trajeto_str, info_itinerario_str, info_hospedagem_str, info_alimentacao_str, info_saude_str, info_revisao_str):\n",
        "    agente = Agent(\n",
        "        name=\"agente_relatorio_final\",\n",
        "        model=\"gemini-2.0-flash\",\n",
        "        instruction=f\"\"\"\n",
        "        Você é um especialista em redigir relatórios concisos de planejamento de viagem.\n",
        "        Colete todas as informações e redija um documento resumido.\n",
        "\n",
        "        Dados Completos da Viagem para o CEP {cep_destino_cliente}:\n",
        "        - Trajeto: {info_trajeto_str}\n",
        "        - Itinerário (Opções de Transporte): {info_itinerario_str}\n",
        "        - Hospedagem (Sugestão): {info_hospedagem_str}\n",
        "        - Alimentação (Nº de Refeições): {info_alimentacao_str}\n",
        "        - Recomendações de Saúde: {info_saude_str}\n",
        "        - Comentários da Revisão: {info_revisao_str}\n",
        "\n",
        "        ---\n",
        "        **INSTRUÇÕES DE FORMATAÇÃO DA SAÍDA (Markdown):**\n",
        "\n",
        "        ----------------------------------------------------\n",
        "        **RELATÓRIO DE PLANEJamento DE VIAGEM TÉCNICA**\n",
        "        ----------------------------------------------------\n",
        "        **Data da Solicitação:** [Extrair de info_trajeto_str]\n",
        "        **CEP Destino:** {cep_destino_cliente}\n",
        "        **Cidade/Estado Destino:** [Extrair de info_trajeto_str]\n",
        "\n",
        "        **1. RESUMO DO TRAJETO:**\n",
        "           - **Dias Fora:** [Extrair de info_trajeto_str]\n",
        "           - **Meios de Transporte:** [Extrair de info_trajeto_str]\n",
        "           - **Partida de Tubarão:** [Data e Hora de info_trajeto_str]\n",
        "           - **Chegada ao Destino:** [Data e Hora de info_trajeto_str]\n",
        "           - **Partida do Destino (Retorno):** [Data e Hora de info_trajeto_str]\n",
        "           - **Chegada em Tubarão (Retorno):** [Data e Hora de info_trajeto_str]\n",
        "\n",
        "        **2. INFORMAÇÕES DE VIAGEM (OPÇÕES E SUGESTÕES):**\n",
        "           - **Transporte Principal (Aéreo/Ônibus):** [Resumir principal opção do info_itinerario_str,\n",
        "           ex: \"Opção Azul Linhas Aéreas (à confirmar)\"]\n",
        "           - **Transporte Local (Pedágios/Uber):** [Resumir estimativas do info_itinerario_str]\n",
        "           - **Hospedagem:** [Resumir sugestão do info_hospedagem_str, ex: \"Hotel X\" ou \"Não necessária\"]\n",
        "           - **Alimentação:** [{info_alimentacao_str} refeições previstas]\n",
        "\n",
        "        **3. RECOMENDAÇÕES DE SAÚDE ([Cidade Destino], [Estado Destino]):**\n",
        "           - [Sumarizar os pontos principais do {info_saude_str}, como principais vacinas e precauções]\n",
        "           - **Atenção:** É fundamental que o técnico **consulte um médico** antes da viagem para\n",
        "           aconselhamento personalizado.\n",
        "\n",
        "        **4. OBSERVAÇÕES DA REVISÃO:**\n",
        "           - [Sumarizar o {info_revisao_str}. Se tudo OK, \"Planejamento revisado e aprovado.\" ou similar]\n",
        "        ----------------------------------------------------\n",
        "        \"\"\",\n",
        "        description=\"Agente que gera o relatório final consolidado da viagem com foco em saúde.\",\n",
        "        tools=[]\n",
        "    )\n",
        "    entrada_agente = (f\"Dados para relatório:\\nTrajeto:{info_trajeto_str}\\nItinerário:{info_itinerario_str}\\n\"\n",
        "                      f\"Hospedagem:{info_hospedagem_str}\\nAlimentação:{info_alimentacao_str}\\n\"\n",
        "                      f\"Saúde:{info_saude_str}\\nRevisão:{info_revisao_str}\")\n",
        "    resultado_final = call_agent(agente, entrada_agente)\n",
        "    return resultado_final"
      ],
      "metadata": {
        "id": "3OmQVko6KmWx"
      },
      "execution_count": 263,
      "outputs": []
    },
    {
      "cell_type": "code",
      "source": [
        "data_de_hoje = date.today().strftime(\"%d/%m/%Y\")\n",
        "\n",
        "print(\"🚀 Iniciando o Sistema de Validação de Viagem Técnica 🚀\")\n",
        "print(\"Data da solicitação: \", data_de_hoje)\n",
        "\n",
        "cep_destino_cliente = input(\"❓ Por favor, digite o CEP da empresa que receberá a manutenção: \")\n",
        "print(\"--------------------------------------------------------------\")\n",
        "\n",
        "# Agente 1\n",
        "info_trajeto = agente_trajeto(cep_destino_cliente, data_de_hoje)\n",
        "print(\"\\n--- 📝 Resultado do Agente 1 (Trajeto) ---\")\n",
        "display(to_markdown(info_trajeto))\n",
        "print(\"--------------------------------------------------------------\")\n",
        "\n",
        "# Agente 2\n",
        "info_itinerario = agente_itinerario(cep_destino_cliente, info_trajeto)\n",
        "print(\"\\n--- 📝 Resultado do Agente 2 (Itinerário Detalhado) ---\")\n",
        "display(to_markdown(info_itinerario))\n",
        "print(\"--------------------------------------------------------------\")\n",
        "\n",
        "# Agente 3\n",
        "info_hospedagem = agente_hospedagem(cep_destino_cliente, info_trajeto)\n",
        "print(\"\\n--- 📝 Resultado do Agente 3 (Hospedagem) ---\")\n",
        "display(to_markdown(info_hospedagem))\n",
        "print(\"--------------------------------------------------------------\")\n",
        "\n",
        "# Agente 4\n",
        "info_alimentacao = agente_alimentacao(info_trajeto)\n",
        "print(\"\\n--- 📝 Resultado do Agente 4 (Alimentação) ---\")\n",
        "display(to_markdown(info_alimentacao))\n",
        "print(\"--------------------------------------------------------------\")\n",
        "\n",
        "# Agente 5\n",
        "info_saude = agente_saude(info_trajeto)\n",
        "print(\"\\n--- 📝 Resultado do Agente 5 (Saúde) ---\")\n",
        "display(to_markdown(info_saude))\n",
        "print(\"--------------------------------------------------------------\")\n",
        "\n",
        "# Agente 6\n",
        "info_revisao = agente_revisao(info_trajeto, info_itinerario, info_hospedagem, info_alimentacao, info_saude)\n",
        "print(\"\\n--- 📝 Resultado do Agente 6 (Revisão Final) ---\")\n",
        "display(to_markdown(info_revisao))\n",
        "print(\"--------------------------------------------------------------\")\n",
        "\n",
        "# Agente 7\n",
        "relatorio_final = agente_relatorio(cep_destino_cliente, info_trajeto, info_itinerario, info_hospedagem, info_alimentacao, info_custos, info_revisao)\n",
        "print(\"\\n--- 📑 Resultado do Agente 7 (Relatório Final) ---\")\n",
        "display(to_markdown(relatorio_final))\n",
        "print(\"--------------------------------------------------------------\")\n",
        "\n",
        "print(\"\\n🎉 Processo de planejamento de viagem concluído! 🎉\")"
      ],
      "metadata": {
        "colab": {
          "base_uri": "https://localhost:8080/",
          "height": 1000
        },
        "id": "e1jZ0IHoSkJ9",
        "outputId": "f2e2bffd-62e6-40cf-b9c2-2b9390e35a9a"
      },
      "execution_count": 265,
      "outputs": [
        {
          "output_type": "stream",
          "name": "stdout",
          "text": [
            "🚀 Iniciando o Sistema de Validação de Viagem Técnica 🚀\n",
            "Data da solicitação:  17/05/2025\n",
            "❓ Por favor, digite o CEP da empresa que receberá a manutenção: 68901-971\n",
            "--------------------------------------------------------------\n",
            "\n",
            "--- 📝 Resultado do Agente 1 (Trajeto) ---\n"
          ]
        },
        {
          "output_type": "display_data",
          "data": {
            "text/plain": [
              "<IPython.core.display.Markdown object>"
            ],
            "text/markdown": "> ## Planejamento do Trajeto Inicial\n> - **Data da Solicitação:** 17/05/2025\n> - **CEP do Cliente:** 68901-971\n> - **Cidade e Estado de Destino:** Macapá, Amapá\n> ---\n> - **DATA DE PARTIDA DA VIAGEM (DE TUBARÃO):** 26/05/2025\n> - **HORÁRIO DE PARTIDA ESTIMADO (DE TUBARÃO):** 09:00\n> - **DATA DE CHEGADA ESTIMADA (NO DESTINO):** 26/05/2025\n> - **HORÁRIO DE CHEGADA ESTIMADO (NO DESTINO):** 23:00\n> ---\n> - **DATA DE PARTIDA DO RETORNO (DO DESTINO):** 27/05/2025\n> - **HORÁRIO DE PARTIDA ESTIMADO (DO DESTINO):** 19:00\n> - **DATA DE CHEGADA ESTIMADA (EM TUBARÃO - FINAL):** 28/05/2025\n> - **HORÁRIO DE CHEGADA ESTIMADO (EM TUBARÃO - FINAL):** 12:00\n> ---\n> - **Meios de Transporte Utilizados (Ida e Volta):** Carro até Aeroporto de Florianópolis (FLN), depois Avião para Aeroporto Internacional de Macapá - Alberto Alcolumbre (MCP).\n> - **Estimativa de Dias Fora:** 3\n> - **Necessidade de Hospedagem:** Sim\n> - **Observações do Trajeto:** Partida de Tubarão (SC) na segunda-feira (26/05/2025) às 09:00, chegando em Macapá (AP) no mesmo dia às 23:00. Manutenção agendada para terça-feira (27/05/2025) às 8h, com retorno previsto para Tubarão (SC) após as 19:00, chegando na quarta-feira (28/05/2025) ao meio dia. Será necessário pernoitar em Macapá devido ao horário de chegada.\n> \n"
          },
          "metadata": {}
        },
        {
          "output_type": "stream",
          "name": "stdout",
          "text": [
            "--------------------------------------------------------------\n",
            "\n",
            "--- 📝 Resultado do Agente 2 (Itinerário Detalhado) ---\n"
          ]
        },
        {
          "output_type": "display_data",
          "data": {
            "text/plain": [
              "<IPython.core.display.Markdown object>"
            ],
            "text/markdown": "> Compreendido! Analisarei as informações do trajeto fornecidas para detalhar as opções de passagens aéreas, custos de pedágio no trecho de carro e estimativas de uso do Uber em Macapá.\n> \n> \n> ## 1. Opções de Passagens (Florianópolis - Macapá)\n> \n> ### Opção Principal Aérea: Azul Linhas Aéreas\n> - **Rota:** Florianópolis (FLN) para Macapá (MCP)\n> - **Datas Pesquisadas:** IDA: 26/05/2025, VOLTA: 27/05/2025\n> - **Observações:** A Azul Linhas Aéreas oferece voos de Florianópolis para Macapá. Os preços podem variar dependendo da data e da disponibilidade. Consulte o site da Azul para verificar os preços e horários exatos para as datas da viagem.\n> \n> ### Opção Aérea Alternativa: LATAM\n> - **Rota:** Florianópolis (FLN) para Macapá (MCP)\n> - **Datas Pesquisadas:** IDA: 26/05/2025, VOLTA: 27/05/2025\n> - **Observações:** A LATAM também opera voos de Florianópolis para Macapá. É recomendado verificar os preços e a disponibilidade diretamente no site da LATAM.\n> \n> ## 2. Pedágios (Trecho: Tubarão, SC - Aeroporto de Florianópolis, SC)\n> - **Praças de Pedágio Encontradas (Estimativa):**\n>     - BR-101, Km 243, Palhoça.\n>     - BR-101, Km 299, Laguna.\n>     - BR-101, Km 344, Tubarão.\n>     - BR-101, Km 404, Araranguá.\n>     - BR-101, Km 457, São João do Sul.\n> - **Estimativa de Custo Total:** O valor da tarifa para automóveis em cada praça é de R$ 2,40. Portanto, o custo total estimado de pedágios no trecho Tubarão - Florianópolis é de aproximadamente R$12,00.\n> \n> ## 3. Estimativa de uso do Uber em Macapá\n> - **Estimativa de Corridas:** É possível realizar diversas corridas de Uber em Macapá durante a estadia, considerando a necessidade de deslocamento do aeroporto para o hotel e do hotel para o local de manutenção, além de outras possíveis locomoções.\n> - **Custo por Km:** O custo médio por km rodado no Uber em Macapá é de R$ 1,22.\n> - **Exemplos de rotas e preços:**\n>     - Aeroporto Internacional de Macapá - Alberto Alcolumbre para Av. Fab, 70: Preço estimado.\n>     - Aeroporto Internacional de Macapá - Alberto Alcolumbre para R. Tiradentes, 1104: Preço estimado.\n>     - Macapá para Santana: R$166-232.\n>     - Conjunto Cidade Macapaba para Pacoval: R$12-16.\n> \n> Lembre-se que os valores das passagens aéreas e as estimativas de preços do Uber estão sujeitos a alterações.\n> \n"
          },
          "metadata": {}
        },
        {
          "output_type": "stream",
          "name": "stdout",
          "text": [
            "--------------------------------------------------------------\n",
            "\n",
            "--- 📝 Resultado do Agente 3 (Hospedagem) ---\n"
          ]
        },
        {
          "output_type": "display_data",
          "data": {
            "text/plain": [
              "<IPython.core.display.Markdown object>"
            ],
            "text/markdown": "> ## Sugestão de Hospedagem\n> - **Necessidade de Hospedagem:** Sim\n> - **Hotel Sugerido:** Hotel Do Forte\n> - **Endereço (se encontrado):** Próximo à Fortaleza de São José de Macapá e com vista para o Rio Amazonas\n> - **Valor Estimado da Diária (se encontrado):** Não foi possível encontrar o valor exato da diária. Recomenda-se consultar o site do hotel ou plataformas de reservas para confirmar o valor.\n> - **Observações:** Hotel bem avaliado e bem localizado, próximo aos pontos turísticos e com boa reputação. O aeroporto de Macapá fica a aproximadamente 3 km do centro, facilitando o deslocamento. Outras opções incluem Amapá Hotel e Hotel Macapaba.\n> \n"
          },
          "metadata": {}
        },
        {
          "output_type": "stream",
          "name": "stdout",
          "text": [
            "--------------------------------------------------------------\n",
            "\n",
            "--- 📝 Resultado do Agente 4 (Alimentação) ---\n"
          ]
        },
        {
          "output_type": "display_data",
          "data": {
            "text/plain": [
              "<IPython.core.display.Markdown object>"
            ],
            "text/markdown": "> Para calcular o número de refeições, vamos analisar os dias e horários do trajeto:\n> \n> *   **Dia 26/05 (Partida):**\n>     *   Manhã: Em trânsito (partida às 09:00) - 1 refeição\n>     *   Tarde: Em trânsito - 1 refeição\n>     *   Noite: Chegada às 23:00 - 1 refeição\n> \n> *   **Dia 27/05 (Manutenção):**\n>     *   Manhã: No destino - 1 refeição\n>     *   Tarde: No destino - 1 refeição\n>     *   Noite: Em trânsito (partida às 19:00) - 1 refeição\n> \n> *   **Dia 28/05 (Retorno):**\n>     *   Manhã: Em trânsito - 1 refeição\n>     *   Tarde: Chegada às 12:00 - 1 refeição\n> \n> Total de refeições: 1 + 1 + 1 + 1 + 1 + 1 + 1 + 1 = 8\n> \n> -   **Número total de refeições:** 8\n> \n"
          },
          "metadata": {}
        },
        {
          "output_type": "stream",
          "name": "stdout",
          "text": [
            "--------------------------------------------------------------\n",
            "\n",
            "--- 📝 Resultado do Agente 5 (Saúde) ---\n"
          ]
        },
        {
          "output_type": "display_data",
          "data": {
            "text/plain": [
              "<IPython.core.display.Markdown object>"
            ],
            "text/markdown": "> ## Recomendações de Saúde para Macapá, Amapá\n> \n> - **Vacinas Recomendadas/Obrigatórias:**\n>     - **Febre Amarela:** A vacina contra a febre amarela é recomendada para viajantes que se deslocam para áreas endêmicas, como o Amapá. É importante vacinar-se pelo menos 10 dias antes da viagem. Uma dose confere proteção por toda a vida. A vacinação é contraindicada para gestantes, imunodeprimidos e alérgicos à gema de ovo. Pessoas acima de 60 anos devem ter recomendação médica.\n>     - **Dengue:**  A dose de reforço da vacina contra a Dengue está disponível nas Unidades Básicas de Saúde (UBSs) para aqueles que tomaram a 1ª dose.\n>     - **Influenza:** A dose anual da vacina contra a Influenza está disponível em todas as UBSs para todos os públicos.\n>     - **COVID-19:** Vacinação periódica, com intervalo de 6 meses, independente da quantidade de doses prévias para idosos a partir de 60 anos. Vacinação periódica para gestantes.\n> \n> - **Precauções Contra Doenças Transmitidas por Mosquitos:**\n>     - **Dengue, Zika e Chikungunya:** O Amapá registrou aumento nos índices de doenças transmitidas pelo *Aedes aegypti* em 2021. Macapá apresentou médio risco de infestação. É fundamental eliminar focos de água parada, usar repelentes e roupas que cubram o corpo.\n>     - **Malária:** Embora não haja menção direta à malária nos resultados da pesquisa, o Amapá está na região Amazônica, onde a malária é endêmica. Recomenda-se consultar um médico sobre a necessidade de profilaxia.\n>     - **Dicas gerais:** Uso de repelentes, roupas compridas e evitar áreas com alta concentração de mosquitos, principalmente ao amanhecer e entardecer.\n> \n> - **Cuidados com Água e Alimentos:**\n>     - Priorize o consumo de água potável e utilize-a na preparação de alimentos. A higienização correta dos alimentos é crucial para evitar doenças. Lave ou faça a imersão de alimentos em água e sabão.\n> \n> - **Outras Dicas de Saúde:**\n>     - Durante o período chuvoso, há um aumento de casos de doenças respiratórias. Evite aglomerações, use máscaras se tiver sintomas gripais e lave as mãos frequentemente.\n>     - Mantenha a carteira de vacinação atualizada.\n> \n> ---\n> **Atenção:** Estas são recomendações gerais. É fundamental que o técnico **consulte um médico ou um Centro de Orientação ao Viajante antes da viagem** para obter aconselhamento de saúde personalizado e atualizado para a região de destino.\n> \n"
          },
          "metadata": {}
        },
        {
          "output_type": "stream",
          "name": "stdout",
          "text": [
            "--------------------------------------------------------------\n",
            "\n",
            "--- 📝 Resultado do Agente 6 (Revisão Final) ---\n"
          ]
        },
        {
          "output_type": "display_data",
          "data": {
            "text/plain": [
              "<IPython.core.display.Markdown object>"
            ],
            "text/markdown": "> ## Relatório de Revisão do Planejamento de Viagem\n> \n> ### Status Geral da Revisão:\n> - [Planejamento Aprovado com Observações]\n> \n> ---\n> ### Pontos Verificados e Comentários:\n> 1.  **Consistência e Lógica do Planejamento (Trajeto, Itinerário, Hospedagem, Alimentação):**\n>     - **Status:** [OK]\n>     - **Comentário:** O planejamento do trajeto, itinerário, hospedagem e alimentação apresenta uma boa lógica e consistência interna. Os horários de voo e deslocamento parecem razoáveis, e a estimativa de refeições é adequada para o período da viagem.\n> \n> 2.  **Aderência às Diretrizes da Empresa:**\n>     - **Status:** [OK]\n>     - **Comentário:** O planejamento parece aderir às diretrizes da empresa, utilizando transporte aéreo e terrestre conforme necessário.\n> \n> 3.  **Recomendações de Saúde:**\n>     - **Status:** [Adequadas]\n>     - **Comentário:** Recomendações de saúde para Macapá, Amapá parecem completas e o alerta para consulta médica está presente.\n> ### Recomendações / Ações Necessárias (se houver):\n> - Incluir o custo estimado do estacionamento do carro no aeroporto de Florianópolis.\n> - Verificar se o hotel sugerido oferece transfer do aeroporto.\n> ---\n> **Conclusão da Revisão:** O planejamento está bem estruturado e completo, necessitando apenas de alguns pequenos ajustes para otimizar a experiência do técnico.\n> \n"
          },
          "metadata": {}
        },
        {
          "output_type": "stream",
          "name": "stdout",
          "text": [
            "--------------------------------------------------------------\n",
            "\n",
            "--- 📑 Resultado do Agente 7 (Relatório Final) ---\n"
          ]
        },
        {
          "output_type": "display_data",
          "data": {
            "text/plain": [
              "<IPython.core.display.Markdown object>"
            ],
            "text/markdown": "> ```markdown\n> ----------------------------------------------------\n> **RELATÓRIO DE PLANEJamento DE VIAGEM TÉCNICA**\n> ----------------------------------------------------\n> **Data da Solicitação:** 17/05/2025\n> **CEP Destino:** 68901-971\n> **Cidade/Estado Destino:** Macapá, Amapá\n> \n> **1. RESUMO DO TRAJETO:**\n>    - **Dias Fora:** 3\n>    - **Meios de Transporte:** Carro até Aeroporto de Florianópolis (FLN), depois Avião para Aeroporto Internacional de Macapá - Alberto Alcolumbre (MCP).\n>    - **Partida de Tubarão:** 26/05/2025 às 09:00\n>    - **Chegada ao Destino:** 26/05/2025 às 23:00\n>    - **Partida do Destino (Retorno):** 27/05/2025 às 19:00\n>    - **Chegada em Tubarão (Retorno):** 28/05/2025 às 12:00\n> \n> **2. INFORMAÇÕES DE VIAGEM (OPÇÕES E SUGESTÕES):**\n>    - **Transporte Principal (Aéreo/Ônibus):** Opção Azul Linhas Aéreas (à confirmar)\n>    - **Transporte Local (Pedágios/Uber):** Estimativa de R$12,00 em pedágios no trajeto Tubarão - Florianópolis. Custo médio do Uber em Macapá de R$ 1,22/km.\n>    - **Hospedagem:** Hotel Do Forte, próximo à Fortaleza de São José de Macapá.\n>    - **Alimentação:** 8 refeições previstas\n> \n> **3. RECOMENDAÇÕES DE SAÚDE (Macapá, Amapá):**\n>    - Recomenda-se verificar a necessidade de vacinas como Febre Amarela e profilaxia contra Malária. É importante também o uso de repelentes e roupas que cubram a maior parte do corpo para evitar picadas de mosquitos.\n>    - **Atenção:** É fundamental que o técnico **consulte um médico** antes da viagem para\n>    aconselhamento personalizado.\n> \n> **4. OBSERVAÇÕES DA REVISÃO:**\n>    - Planejamento aprovado com observações: Incluir o custo estimado do estacionamento do carro no aeroporto de Florianópolis e verificar se o hotel sugerido oferece transfer do aeroporto.\n> ----------------------------------------------------\n> ```\n"
          },
          "metadata": {}
        },
        {
          "output_type": "stream",
          "name": "stdout",
          "text": [
            "--------------------------------------------------------------\n",
            "\n",
            "🎉 Processo de planejamento de viagem concluído! 🎉\n"
          ]
        }
      ]
    },
    {
      "cell_type": "code",
      "source": [],
      "metadata": {
        "id": "HKqldm8B8_Qe"
      },
      "execution_count": 264,
      "outputs": []
    }
  ]
}