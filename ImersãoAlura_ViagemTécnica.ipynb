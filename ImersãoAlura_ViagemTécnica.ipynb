{
  "nbformat": 4,
  "nbformat_minor": 0,
  "metadata": {
    "colab": {
      "provenance": [],
      "authorship_tag": "ABX9TyOlzCq8CdbT2MtZ1V3XJDgg",
      "include_colab_link": true
    },
    "kernelspec": {
      "name": "python3",
      "display_name": "Python 3"
    },
    "language_info": {
      "name": "python"
    }
  },
  "cells": [
    {
      "cell_type": "markdown",
      "metadata": {
        "id": "view-in-github",
        "colab_type": "text"
      },
      "source": [
        "<a href=\"https://colab.research.google.com/github/GuzAnd777/Imersao_Alura_Gemini/blob/main/Imers%C3%A3oAlura_ViagemT%C3%A9cnica.ipynb\" target=\"_parent\"><img src=\"https://colab.research.google.com/assets/colab-badge.svg\" alt=\"Open In Colab\"/></a>"
      ]
    },
    {
      "cell_type": "code",
      "execution_count": 197,
      "metadata": {
        "id": "wPMraiFR6pFR"
      },
      "outputs": [],
      "source": [
        "%pip -q install google-genai"
      ]
    },
    {
      "cell_type": "code",
      "source": [
        "# Configurando a API Key do Google Gemini\n",
        "\n",
        "import os\n",
        "from google.colab import userdata\n",
        "\n",
        "os.environ[\"GOOGLE_API_KEY\"] = userdata.get('GOOGLE_API_KEY')"
      ],
      "metadata": {
        "id": "kqsV5Uig6uTl"
      },
      "execution_count": 198,
      "outputs": []
    },
    {
      "cell_type": "code",
      "source": [
        "# Configura o cliente da SDK do Gemini\n",
        "\n",
        "from google import genai\n",
        "\n",
        "client = genai.Client()\n",
        "\n",
        "MODEL_ID = \"gemini-2.0-flash\""
      ],
      "metadata": {
        "id": "6V1FfZ_x6yq8"
      },
      "execution_count": 199,
      "outputs": []
    },
    {
      "cell_type": "code",
      "source": [
        "import google.generativeai as genai\n",
        "\n",
        "print(\"Modelos disponíveis:\")\n",
        "for m in genai.list_models():\n",
        "  # Verifica se o modelo suporta o método 'generateContent' que é o mais comum para geração de texto.\n",
        "  if 'generateContent' in m.supported_generation_methods:\n",
        "    print(f\"- {m.name}\")"
      ],
      "metadata": {
        "colab": {
          "base_uri": "https://localhost:8080/"
        },
        "id": "bzS_v7P0m7pr",
        "outputId": "fa362f33-de06-455c-a412-c612d2e39796"
      },
      "execution_count": 200,
      "outputs": [
        {
          "output_type": "stream",
          "name": "stdout",
          "text": [
            "Modelos disponíveis:\n",
            "- models/gemini-1.0-pro-vision-latest\n",
            "- models/gemini-pro-vision\n",
            "- models/gemini-1.5-pro-latest\n",
            "- models/gemini-1.5-pro-001\n",
            "- models/gemini-1.5-pro-002\n",
            "- models/gemini-1.5-pro\n",
            "- models/gemini-1.5-flash-latest\n",
            "- models/gemini-1.5-flash-001\n",
            "- models/gemini-1.5-flash-001-tuning\n",
            "- models/gemini-1.5-flash\n",
            "- models/gemini-1.5-flash-002\n",
            "- models/gemini-1.5-flash-8b\n",
            "- models/gemini-1.5-flash-8b-001\n",
            "- models/gemini-1.5-flash-8b-latest\n",
            "- models/gemini-1.5-flash-8b-exp-0827\n",
            "- models/gemini-1.5-flash-8b-exp-0924\n",
            "- models/gemini-2.5-pro-exp-03-25\n",
            "- models/gemini-2.5-pro-preview-03-25\n",
            "- models/gemini-2.5-flash-preview-04-17\n",
            "- models/gemini-2.5-flash-preview-04-17-thinking\n",
            "- models/gemini-2.5-pro-preview-05-06\n",
            "- models/gemini-2.0-flash-exp\n",
            "- models/gemini-2.0-flash\n",
            "- models/gemini-2.0-flash-001\n",
            "- models/gemini-2.0-flash-exp-image-generation\n",
            "- models/gemini-2.0-flash-lite-001\n",
            "- models/gemini-2.0-flash-lite\n",
            "- models/gemini-2.0-flash-preview-image-generation\n",
            "- models/gemini-2.0-flash-lite-preview-02-05\n",
            "- models/gemini-2.0-flash-lite-preview\n",
            "- models/gemini-2.0-pro-exp\n",
            "- models/gemini-2.0-pro-exp-02-05\n",
            "- models/gemini-exp-1206\n",
            "- models/gemini-2.0-flash-thinking-exp-01-21\n",
            "- models/gemini-2.0-flash-thinking-exp\n",
            "- models/gemini-2.0-flash-thinking-exp-1219\n",
            "- models/learnlm-2.0-flash-experimental\n",
            "- models/gemma-3-1b-it\n",
            "- models/gemma-3-4b-it\n",
            "- models/gemma-3-12b-it\n",
            "- models/gemma-3-27b-it\n"
          ]
        }
      ]
    },
    {
      "cell_type": "code",
      "source": [
        "# Instalar Framework de agentes do Google\n",
        "\n",
        "!pip install -q google-adk"
      ],
      "metadata": {
        "id": "ObuPuqe868mM"
      },
      "execution_count": 201,
      "outputs": []
    },
    {
      "cell_type": "code",
      "source": [
        "from google.adk.agents import Agent\n",
        "from google.adk.runners import Runner\n",
        "from google.adk.sessions import InMemorySessionService\n",
        "from google.adk.tools import google_search\n",
        "from google.adk.tools import google_search\n",
        "from google.genai import types  # Para criar conteúdos (Content e Part)\n",
        "from datetime import date\n",
        "import textwrap # Para formatar melhor a saída de texto\n",
        "from IPython.display import display, Markdown # Para exibir texto formatado no Colab\n",
        "import requests # Para fazer requisições HTTP\n",
        "import warnings\n",
        "\n",
        "warnings.filterwarnings(\"ignore\")"
      ],
      "metadata": {
        "id": "0ILhGrC07KrO"
      },
      "execution_count": 202,
      "outputs": []
    },
    {
      "cell_type": "code",
      "source": [
        "# Função auxiliar que envia uma mensagem para um agente via Runner e retorna a resposta final\n",
        "def call_agent(agent: Agent, message_text: str) -> str:\n",
        "    # Cria um serviço de sessão em memória\n",
        "    session_service = InMemorySessionService()\n",
        "    # Cria uma nova sessão (você pode personalizar os IDs conforme necessário)\n",
        "    session = session_service.create_session(app_name=agent.name, user_id=\"user1\", session_id=\"session1\")\n",
        "    # Cria um Runner para o agente\n",
        "    runner = Runner(agent=agent, app_name=agent.name, session_service=session_service)\n",
        "    # Cria o conteúdo da mensagem de entrada\n",
        "    content = types.Content(role=\"user\", parts=[types.Part(text=message_text)])\n",
        "\n",
        "    final_response = \"\"\n",
        "    # Itera assincronamente pelos eventos retornados durante a execução do agente\n",
        "    for event in runner.run(user_id=\"user1\", session_id=\"session1\", new_message=content):\n",
        "        if event.is_final_response():\n",
        "          for part in event.content.parts:\n",
        "            if part.text is not None:\n",
        "              final_response += part.text\n",
        "              final_response += \"\\n\"\n",
        "    return final_response"
      ],
      "metadata": {
        "id": "0vgEAwUO8IwY"
      },
      "execution_count": 203,
      "outputs": []
    },
    {
      "cell_type": "code",
      "source": [
        "# Função auxiliar para exibir texto formatado em Markdown no Colab\n",
        "def to_markdown(text):\n",
        "  text = text.replace('•', '  *')\n",
        "  return Markdown(textwrap.indent(text, '> ', predicate=lambda _: True))"
      ],
      "metadata": {
        "id": "_5bcLevp8KzI"
      },
      "execution_count": 204,
      "outputs": []
    },
    {
      "cell_type": "code",
      "source": [
        "# --- Constantes ---\n",
        "CEP_ORIGEM_EMPRESA = \"88701-180\"\n",
        "CIDADE_ORIGEM_EMPRESA = \"Tubarão, Santa Catarina\""
      ],
      "metadata": {
        "id": "WaZdgeNaSkwd"
      },
      "execution_count": 205,
      "outputs": []
    },
    {
      "cell_type": "code",
      "source": [
        "# Agente 1: agente_trajeto (Mantido, já inclui Cidade/Estado de destino)\n",
        "def agente_trajeto (cep_destino_cliente, data_de_hoje_str):\n",
        "    agente = Agent(\n",
        "        name=\"agente_trajeto\",\n",
        "        model=\"gemini-2.0-flash\",\n",
        "        instruction=f\"\"\"\n",
        "        Você é um assistente de pesquisa de viagens. Sua tarefa é usar a ferramenta de busca (google_search)\n",
        "        para determinar o trajeto e a logística inicial.\n",
        "\n",
        "        Diretrizes mandatórias:\n",
        "        1.  Ponto de partida: {CIDADE_ORIGEM_EMPRESA} (CEP: {CEP_ORIGEM_EMPRESA}).\n",
        "        2.  Pesquise a **cidade e estado** correspondentes ao CEP de destino: {cep_destino_cliente}.\n",
        "        3.  Transporte (ida e volta):\n",
        "            *   Destinos próximos (até 4 horas de carro) no mesmo estado (Santa Catarina): Carro.\n",
        "            *   Destinos distantes no mesmo estado (Santa Catarina): Ônibus.\n",
        "            *   Destinos em outro estado: Carro até Aeroporto de Florianópolis (FLN), depois avião para aeroporto mais próximo do destino.\n",
        "        4.  Janela de partida: A partir das 12h de segunda-feira. Última saída de Tubarão: quarta-feira às 12h.\n",
        "            *   Para voos, chegar ao aeroporto de embarque com 3 horas de antecedência.\n",
        "        5.  Manutenção: Sempre às 8h da manhã no local do cliente.\n",
        "            *   Se chegar na cidade de destino APÓS as 8h, manutenção no dia seguinte, com hospedagem.\n",
        "        6.  Retorno: Após as 18h do dia da manutenção, ou dia seguinte se não for possível retornar no mesmo dia.\n",
        "        7.  Viagem: Ocorrerá uma semana após a data da solicitação ({data_de_hoje_str}), respeitando a janela de partida. Calcule as datas exatas de partida e retorno.\n",
        "\n",
        "        Sua Saída DEVE INCLUIR (formate em Markdown):\n",
        "        ## Planejamento do Trajeto Inicial\n",
        "        - **Data da Solicitação:** {data_de_hoje_str}\n",
        "        - **CEP do Cliente:** {cep_destino_cliente}\n",
        "        - **Cidade e Estado de Destino:** [Resultado da pesquisa - IMPORTANTE PARA O AGENTE DE SAÚDE]\n",
        "        ---\n",
        "        - **DATA DE PARTIDA DA VIAGEM (DE TUBARÃO):** [DD/MM/AAAA]\n",
        "        - **HORÁRIO DE PARTIDA ESTIMADO (DE TUBARÃO):** [HH:MM]\n",
        "        - **DATA DE CHEGADA ESTIMADA (NO DESTINO):** [DD/MM/AAAA]\n",
        "        - **HORÁRIO DE CHEGADA ESTIMADO (NO DESTINO):** [HH:MM]\n",
        "        ---\n",
        "        - **DATA DE PARTIDA DO RETORNO (DO DESTINO):** [DD/MM/AAAA]\n",
        "        - **HORÁRIO DE PARTIDA ESTIMADO (DO DESTINO):** [HH:MM]\n",
        "        - **DATA DE CHEGADA ESTIMADA (EM TUBARÃO - FINAL):** [DD/MM/AAAA]\n",
        "        - **HORÁRIO DE CHEGADA ESTIMADO (EM TUBARÃO - FINAL):** [HH:MM]\n",
        "        ---\n",
        "        - **Meios de Transporte Utilizados (Ida e Volta):** [Ex: Carro até FLN, depois Avião]\n",
        "        - **Estimativa de Dias Fora:** [Número de dias]\n",
        "        - **Necessidade de Hospedagem:** [Sim/Não]\n",
        "        - **Observações do Trajeto:** [Qualquer informação adicional relevante]\n",
        "        \"\"\",\n",
        "        description=\"Agente que busca informações iniciais sobre o trajeto, incluindo cidade/estado de destino.\",\n",
        "        tools=[google_search]\n",
        "    )\n",
        "    entrada_agente = f\"CEP do cliente: {cep_destino_cliente}\\nData da solicitação: {data_de_hoje_str}\"\n",
        "    resultado_trajeto = call_agent(agente, entrada_agente)\n",
        "    return resultado_trajeto"
      ],
      "metadata": {
        "id": "LQyF1FZe8OU-"
      },
      "execution_count": 206,
      "outputs": []
    },
    {
      "cell_type": "code",
      "source": [
        "# Agente 2: Itinerário Detalhado (Foco em opções, não necessariamente o custo final)\n",
        "def agente_itinerario(cep_destino_cliente, info_trajeto_str):\n",
        "    agente = Agent(\n",
        "        name=\"agente_itinerario\",\n",
        "        model=\"gemini-2.0-flash\",\n",
        "        instruction=f\"\"\"\n",
        "        Você é um especialista em montar itinerários de viagem no Brasil.\n",
        "        Analise CUIDADOSAMENTE as seguintes informações do planejamento de trajeto inicial, que contêm as DATAS EXATAS para a viagem:\n",
        "        --- INÍCIO INFORMAÇÕES DO TRAJETO ---\n",
        "        {info_trajeto_str}\n",
        "        --- FIM INFORMAÇÕES DO TRAJETO ---\n",
        "\n",
        "        Suas tarefas:\n",
        "        1.  EXTRAIA as datas de partida e retorno do texto acima.\n",
        "        2.  Se a viagem incluir avião:\n",
        "            *   Sua prioridade é encontrar opções de voos NAS COMPANHIAS LATAM E AZUL para as DATAS EXTRAÍDAS.\n",
        "            *   Pesquise usando 'google_search' com termos como `voos [origem] para [destino] Latam [data_ida] [data_volta] site:latamairlines.com`.\n",
        "         3.  Se a viagem incluir ônibus:\n",
        "            *   Pesquise opções de ônibus para as DATAS EXTRAÍDAS. Mencione companhias.\n",
        "        4.  Se a viagem incluir carro:\n",
        "            *   Liste os pedágios e uma estimativa de seus valores.\n",
        "        5.  Se o técnico for usar Uber na cidade de destino:\n",
        "            *   Forneça uma estimativa de quantas viagens poderão ser realizadas para os trechos prováveis.\n",
        "\n",
        "        ---\n",
        "        **INSTRUÇÕES DE FORMATAÇÃO DA SAÍDA (Markdown):**\n",
        "        ## 1. Opções de Passagens ([Origem] - [Destino])\n",
        "        ### Opção Principal Aérea/Ônibus: [Nome da Companhia/Fonte]\n",
        "        - **Rota:** [Ex: Florianópolis (FLN) para Macapá (MCP)]\n",
        "        - **Datas Pesquisadas:** IDA: [DATA EXTRAÍDA], VOLTA: [DATA EXTRAÍDA]\n",
        "        - **Observações:** [Ex: \"Este é um preço estimado e sujeito a alterações.\" ou \"Opção encontrada em [site].\"]\n",
        "\n",
        "        ## 2. Pedágios (Trecho: [Ex: Tubarão, SC - Aeroporto de Florianópolis, SC])\n",
        "        - **Praças de Pedágio Encontradas (Estimativa):** (Liste)\n",
        "        ---\n",
        "        Priorize encontrar as opções de transporte.\n",
        "        \"\"\",\n",
        "        description=\"Agente que detalha opções de transporte e estimativas.\",\n",
        "        tools=[google_search]\n",
        "    )\n",
        "    entrada_agente = f\"CEP do cliente: {cep_destino_cliente}\\nInformações do Trajeto Base: {info_trajeto_str}\"\n",
        "    resultado_itinerario = call_agent(agente, entrada_agente)\n",
        "    return resultado_itinerario"
      ],
      "metadata": {
        "id": "l2qHB4KbWzsk"
      },
      "execution_count": 207,
      "outputs": []
    },
    {
      "cell_type": "code",
      "source": [
        "# Agente 3: Hospedagem (Foco em encontrar opções, não necessariamente o custo final)\n",
        "def agente_hospedagem(cep_destino_cliente, info_trajeto_str): # Não precisa mais do info_itinerario_str se o foco não é custo.\n",
        "    agente = Agent(\n",
        "        name=\"agente_hospedagem\",\n",
        "        model=\"gemini-2.0-flash\",\n",
        "        instruction=f\"\"\"\n",
        "        Você é um especialista em encontrar sugestões de hospedagem.\n",
        "        Informações do trajeto: {info_trajeto_str}\n",
        "\n",
        "        Tarefa:\n",
        "        1. Verifique no `info_trajeto_str` se a hospedagem é necessária (campo \"Necessidade de Hospedagem:\").\n",
        "        2. Se SIM:\n",
        "            *   Use 'google_search' para encontrar um hotel com boas indicações na cidade de destino (identificada no `info_trajeto_str`).\n",
        "            *   O hotel deve estar a no máximo 2km do local do cliente (CEP: {cep_destino_cliente}).\n",
        "            *   Indique o nome do hotel e, se encontrar, uma estimativa de diária com a ressalva de que precisa ser confirmada.\n",
        "        3. Se NÃO: Indique que a hospedagem não é necessária.\n",
        "\n",
        "        ---\n",
        "        **INSTRUÇÕES DE FORMATAÇÃO DA SAÍDA (Markdown):**\n",
        "        **Caso a hospedagem SEJA necessária:**\n",
        "        ## Sugestão de Hospedagem\n",
        "        - **Necessidade de Hospedagem:** Sim\n",
        "        - **Hotel Sugerido:** [Nome do Hotel]\n",
        "        - **Endereço (se encontrado):** [Endereço]\n",
        "        - **Valor Estimado da Diária (se encontrado):** R$ [Valor (Estimativa, confirmar)]\n",
        "        - **Observações:** [Ex: \"Hotel bem avaliado próximo ao cliente.\"]\n",
        "\n",
        "        **Caso a hospedagem NÃO SEJA necessária:**\n",
        "        ## Sugestão de Hospedagem\n",
        "        - **Necessidade de Hospedagem:** Não\n",
        "        - **Hotel Sugerido:** N/A\n",
        "        ---\n",
        "        \"\"\",\n",
        "        description=\"Agente que busca sugestões de hospedagem.\",\n",
        "        tools=[google_search]\n",
        "    )\n",
        "    entrada_agente = f\"CEP do cliente: {cep_destino_cliente}\\nTrajeto: {info_trajeto_str}\"\n",
        "    resultado_hospedagem = call_agent(agente, entrada_agente)\n",
        "    return resultado_hospedagem"
      ],
      "metadata": {
        "id": "vScYGT4tplHI"
      },
      "execution_count": 208,
      "outputs": []
    },
    {
      "cell_type": "code",
      "source": [
        "# Agente 4: Alimentação (Mantido como antes)\n",
        "def agente_alimentacao(info_trajeto_str):\n",
        "    agente = Agent(\n",
        "        name=\"agente_alimentacao\",\n",
        "        model=\"gemini-2.0-flash\",\n",
        "        instruction=f\"\"\"\n",
        "        Você auxilia o técnico a calcular o número de refeições durante suas viagens.\n",
        "        O técnico tem direito a uma refeição por período do dia em que está em trânsito ou no local de destino: manhã, tarde e noite.\n",
        "        Com base nas informações do trajeto (principalmente \"dias fora\" e horários de partida/chegada):\n",
        "        {info_trajeto_str}\n",
        "        Sua tarefa: Contabilizar o número total de refeições.\n",
        "        Sua Saída DEVE INCLUIR (Markdown):\n",
        "        - **Número total de refeições:** [Número]\n",
        "        \"\"\",\n",
        "        description=\"Agente que calcula o número total de refeições.\",\n",
        "        tools=[]\n",
        "    )\n",
        "    entrada_agente = f\"Informações do Trajeto: {info_trajeto_str}\"\n",
        "    resultado_alimentacao = call_agent(agente, entrada_agente)\n",
        "    return resultado_alimentacao"
      ],
      "metadata": {
        "id": "WrEuyu2I_0oJ"
      },
      "execution_count": 209,
      "outputs": []
    },
    {
      "cell_type": "code",
      "source": [
        "# Agente 5: Saúde\n",
        "def agente_saude(info_trajeto_str): # Precisa da cidade/estado do info_trajeto\n",
        "    agente = Agent(\n",
        "        name=\"agente_saude\",\n",
        "        model=\"gemini-2.0-flash\",\n",
        "        instruction=f\"\"\"\n",
        "        Você é um assistente de saúde para viajantes.\n",
        "        Com base nas informações do trajeto, especialmente a **Cidade e Estado de Destino**:\n",
        "        --- INÍCIO INFORMAÇÕES DO TRAJETO ---\n",
        "        {info_trajeto_str}\n",
        "        --- FIM INFORMAÇÕES DO TRAJETO ---\n",
        "\n",
        "        Sua tarefa é:\n",
        "        1. Identificar a Cidade e Estado de destino no texto acima.\n",
        "        2. Usar a ferramenta 'google_search' para pesquisar recomendações de saúde específicas para essa localidade no Brasil.\n",
        "           Busque por:\n",
        "           - Vacinas recomendadas ou obrigatórias.\n",
        "           - Riscos de doenças transmitidas por mosquitos (Dengue, Zika, Chikungunya, Febre Amarela, Malária).\n",
        "           - Precauções com água e alimentos.\n",
        "           - Outras dicas de saúde relevantes para viajantes naquela região.\n",
        "        3.  Sempre inclua uma recomendação para que o viajante consulte um médico ou um Centro de Orientação ao Viajante antes da viagem para aconselhamento personalizado.\n",
        "\n",
        "        ---\n",
        "        **INSTRUÇÕES DE FORMATAÇÃO DA SAÍDA (Markdown):**\n",
        "        ## Recomendações de Saúde para [Cidade Destino], [Estado Destino]\n",
        "\n",
        "        - **Vacinas Recomendadas/Obrigatórias:**\n",
        "            - [Vacina 1]: [Breve descrição/recomendação]\n",
        "            - [Vacina 2]: [Breve descrição/recomendação]\n",
        "            - (liste todas as relevantes)\n",
        "        - **Precauções Contra Doenças Transmitidas por Mosquitos:**\n",
        "            - [Doença 1]: [Precauções específicas ou nível de risco]\n",
        "            - [Doença 2]: [Precauções específicas ou nível de risco]\n",
        "            - Dicas gerais: [Ex: Uso de repelente, roupas adequadas]\n",
        "        - **Cuidados com Água e Alimentos:**\n",
        "            - [Principais recomendações]\n",
        "        - **Outras Dicas de Saúde:**\n",
        "            - [Dicas adicionais]\n",
        "        ---\n",
        "        **Atenção:** Estas são recomendações gerais. É fundamental que o técnico **consulte um médico ou um Centro de Orientação ao Viajante antes da viagem** para obter aconselhamento de saúde personalizado e atualizado para a região de destino.\n",
        "        ---\n",
        "        \"\"\",\n",
        "        description=\"Agente que pesquisa recomendações de saúde para o local de destino.\",\n",
        "        tools=[google_search]\n",
        "    )\n",
        "    entrada_agente = f\"Informações do Trajeto (para identificar destino): {info_trajeto_str}\"\n",
        "    resultado_saude = call_agent(agente, entrada_agente)\n",
        "    return resultado_saude"
      ],
      "metadata": {
        "id": "H8u7pLnZDB7y"
      },
      "execution_count": 210,
      "outputs": []
    },
    {
      "cell_type": "code",
      "source": [
        "# Agente 6: Revisão (Ajustado para focar na logística e saúde)\n",
        "def agente_revisao(info_trajeto_str, info_itinerario_str, info_hospedagem_str, info_alimentacao_str, info_saude_str):\n",
        "    agente = Agent(\n",
        "        name=\"agente_revisao\",\n",
        "        model=\"gemini-2.0-flash\",\n",
        "        instruction=f\"\"\"\n",
        "        Você é um especialista em conferência de planejamento de viagens.\n",
        "        Dados para revisão:\n",
        "        - Trajeto: {info_trajeto_str}\n",
        "        - Itinerário: {info_itinerario_str}\n",
        "        - Hospedagem: {info_hospedagem_str}\n",
        "        - Alimentação: {info_alimentacao_str}\n",
        "        - Recomendações de Saúde: {info_saude_str}\n",
        "\n",
        "        Tarefas de Revisão:\n",
        "        1.  **Consistência Geral:** Verifique se as informações entre as etapas são consistentes (ex: necessidade de hospedagem, horários).\n",
        "        2.  **Aderência às Diretrizes:** Confirme se o planejamento segue as diretrizes da empresa (transporte, horários).\n",
        "        3.  **Recomendações de Saúde:** Avalie se as recomendações de saúde são claras, relevantes para o destino (identificado no `info_trajeto_str`) e incluem o aviso para consulta médica.\n",
        "        4.  **Viabilidade Geral:** O planejamento como um todo parece viável e completo?\n",
        "\n",
        "        ---\n",
        "        **INSTRUÇÕES DE FORMATAÇÃO DA SAÍDA (Markdown):**\n",
        "        ## Relatório de Revisão do Planejamento de Viagem\n",
        "\n",
        "        ### Status Geral da Revisão:\n",
        "        - [Ex: \"Planejamento Aprovado\" ou \"Aprovado com Observações\" ou \"Requer Ajustes\"]\n",
        "\n",
        "        ---\n",
        "        ### Pontos Verificados e Comentários:\n",
        "        1.  **Consistência e Lógica do Planejamento (Trajeto, Itinerário, Hospedagem, Alimentação):**\n",
        "            - **Status:** [Ex: OK / Atenção Necessária]\n",
        "            - **Comentário:** [Seus comentários sobre a logística]\n",
        "        2.  **Aderência às Diretrizes da Empresa:**\n",
        "            - **Status:** [Ex: OK / Não Conforme]\n",
        "            - **Comentário:** [Seus comentários]\n",
        "        3.  **Recomendações de Saúde:**\n",
        "            - **Status:** [Ex: Adequadas / Incompletas / Revisar]\n",
        "            - **Comentário:** [Ex: \"Recomendações de saúde para [Cidade/Estado] parecem completas e o alerta para consulta médica está presente.\"]\n",
        "        ### Recomendações / Ações Necessárias (se houver):\n",
        "        - [Listar ações]\n",
        "        ---\n",
        "        **Conclusão da Revisão:** [Frase final]\n",
        "        \"\"\",\n",
        "        description=\"Agente que revisa o planejamento da viagem com foco na logística e saúde.\",\n",
        "        tools=[] # Principalmente análise dos inputs\n",
        "    )\n",
        "    entrada_agente = f\"Trajeto: {info_trajeto_str}\\nItinerário: {info_itinerario_str}\\nHospedagem: {info_hospedagem_str}\\nAlimentação: {info_alimentacao_str}\\nSaúde: {info_saude_str}\"\n",
        "    resultado_revisao = call_agent(agente, entrada_agente)\n",
        "    return resultado_revisao"
      ],
      "metadata": {
        "id": "CTVbtVDiFdRe"
      },
      "execution_count": 211,
      "outputs": []
    },
    {
      "cell_type": "code",
      "source": [
        "# Agente 7: Relatorio (Ajustado para incluir saúde e remover custos detalhados)\n",
        "def agente_relatorio(cep_destino_cliente, info_trajeto_str, info_itinerario_str, info_hospedagem_str, info_alimentacao_str, info_saude_str, info_revisao_str):\n",
        "    agente = Agent(\n",
        "        name=\"agente_relatorio_final\",\n",
        "        model=\"gemini-2.0-flash\",\n",
        "        instruction=f\"\"\"\n",
        "        Você é um especialista em redigir relatórios concisos de planejamento de viagem.\n",
        "        Colete todas as informações e redija um documento resumido.\n",
        "\n",
        "        Dados Completos da Viagem para o CEP {cep_destino_cliente}:\n",
        "        - Trajeto: {info_trajeto_str}\n",
        "        - Itinerário (Opções de Transporte): {info_itinerario_str}\n",
        "        - Hospedagem (Sugestão): {info_hospedagem_str}\n",
        "        - Alimentação (Nº de Refeições): {info_alimentacao_str}\n",
        "        - Recomendações de Saúde: {info_saude_str}\n",
        "        - Comentários da Revisão: {info_revisao_str}\n",
        "\n",
        "        ---\n",
        "        **INSTRUÇÕES DE FORMATAÇÃO DA SAÍDA (Markdown):**\n",
        "\n",
        "        ----------------------------------------------------\n",
        "        **RELATÓRIO DE PLANEJamento DE VIAGEM TÉCNICA**\n",
        "        ----------------------------------------------------\n",
        "        **Data da Solicitação:** [Extrair de info_trajeto_str]\n",
        "        **CEP Destino:** {cep_destino_cliente}\n",
        "        **Cidade/Estado Destino:** [Extrair de info_trajeto_str]\n",
        "\n",
        "        **1. RESUMO DO TRAJETO:**\n",
        "           - **Dias Fora:** [Extrair de info_trajeto_str]\n",
        "           - **Meios de Transporte:** [Extrair de info_trajeto_str]\n",
        "           - **Partida de Tubarão:** [Data e Hora de info_trajeto_str]\n",
        "           - **Chegada ao Destino:** [Data e Hora de info_trajeto_str]\n",
        "           - **Partida do Destino (Retorno):** [Data e Hora de info_trajeto_str]\n",
        "           - **Chegada em Tubarão (Retorno):** [Data e Hora de info_trajeto_str]\n",
        "\n",
        "        **2. INFORMAÇÕES DE VIAGEM (OPÇÕES E SUGESTÕES):**\n",
        "           - **Transporte Principal (Aéreo/Ônibus):** [Resumir principal opção do info_itinerario_str, ex: \"Opção Azul Linhas Aéreas, estimativa R$ X.XXX (confirmar)\"]\n",
        "           - **Transporte Local (Pedágios/Uber):** [Resumir estimativas do info_itinerario_str]\n",
        "           - **Hospedagem:** [Resumir sugestão do info_hospedagem_str, ex: \"Hotel X, diária estimada R$ Y (confirmar)\" ou \"Não necessária\"]\n",
        "           - **Alimentação:** [{info_alimentacao_str} refeições previstas]\n",
        "\n",
        "        **3. RECOMENDAÇÕES DE SAÚDE ([Cidade Destino], [Estado Destino]):**\n",
        "           - [Sumarizar os pontos principais do `info_saude_str`, como principais vacinas e precauções]\n",
        "           - **Atenção:** É fundamental que o técnico **consulte um médico** antes da viagem para aconselhamento personalizado.\n",
        "\n",
        "        **4. OBSERVAÇÕES DA REVISÃO:**\n",
        "           - [Sumarizar o `info_revisao_str`. Se tudo OK, \"Planejamento revisado e aprovado.\" ou similar]\n",
        "        ----------------------------------------------------\n",
        "        \"\"\",\n",
        "        description=\"Agente que gera o relatório final consolidado da viagem com foco em saúde.\",\n",
        "        tools=[]\n",
        "    )\n",
        "    entrada_agente = (f\"Dados para relatório:\\nTrajeto:{info_trajeto_str}\\nItinerário:{info_itinerario_str}\\n\"\n",
        "                      f\"Hospedagem:{info_hospedagem_str}\\nAlimentação:{info_alimentacao_str}\\n\"\n",
        "                      f\"Saúde:{info_saude_str}\\nRevisão:{info_revisao_str}\")\n",
        "    resultado_final = call_agent(agente, entrada_agente)\n",
        "    return resultado_final"
      ],
      "metadata": {
        "id": "3OmQVko6KmWx"
      },
      "execution_count": 212,
      "outputs": []
    },
    {
      "cell_type": "code",
      "source": [
        "data_de_hoje = date.today().strftime(\"%d/%m/%Y\")\n",
        "\n",
        "print(\"🚀 Iniciando o Sistema de Validação de Viagem Técnica 🚀\")\n",
        "print(\"Data da solicitação: \", data_de_hoje)\n",
        "\n",
        "cep_destino_cliente = input(\"❓ Por favor, digite o CEP da empresa que receberá a manutenção: \")\n",
        "print(\"--------------------------------------------------------------\")\n",
        "\n",
        "# Agente 1\n",
        "info_trajeto = agente_trajeto(cep_destino_cliente, data_de_hoje)\n",
        "print(\"\\n--- 📝 Resultado do Agente 1 (Trajeto) ---\")\n",
        "display(to_markdown(info_trajeto))\n",
        "print(\"--------------------------------------------------------------\")\n",
        "\n",
        "# Agente 2\n",
        "info_itinerario = agente_itinerario(cep_destino_cliente, info_trajeto)\n",
        "print(\"\\n--- 📝 Resultado do Agente 2 (Itinerário Detalhado) ---\")\n",
        "display(to_markdown(info_itinerario))\n",
        "print(\"--------------------------------------------------------------\")\n",
        "\n",
        "# Agente 3\n",
        "info_hospedagem = agente_hospedagem(cep_destino_cliente, info_trajeto)\n",
        "print(\"\\n--- 📝 Resultado do Agente 3 (Hospedagem) ---\")\n",
        "display(to_markdown(info_hospedagem))\n",
        "print(\"--------------------------------------------------------------\")\n",
        "\n",
        "# Agente 4\n",
        "info_alimentacao = agente_alimentacao(info_trajeto)\n",
        "print(\"\\n--- 📝 Resultado do Agente 4 (Alimentação) ---\")\n",
        "display(to_markdown(info_alimentacao))\n",
        "print(\"--------------------------------------------------------------\")\n",
        "\n",
        "# Agente 5\n",
        "info_saude = agente_saude(info_trajeto)\n",
        "print(\"\\n--- 📝 Resultado do Agente 5 (Saúde) ---\")\n",
        "display(to_markdown(info_saude))\n",
        "print(\"--------------------------------------------------------------\")\n",
        "\n",
        "# Agente 6\n",
        "info_revisao = agente_revisao(info_trajeto, info_itinerario, info_hospedagem, info_alimentacao, info_custos)\n",
        "print(\"\\n--- 📝 Resultado do Agente 6 (Revisão Final) ---\")\n",
        "display(to_markdown(info_revisao))\n",
        "print(\"--------------------------------------------------------------\")\n",
        "\n",
        "# Agente 7\n",
        "relatorio_final = agente_relatorio(cep_destino_cliente, info_trajeto, info_itinerario, info_hospedagem, info_alimentacao, info_custos, info_revisao)\n",
        "print(\"\\n--- 📑 Resultado do Agente 7 (Relatório Final) ---\")\n",
        "display(to_markdown(relatorio_final))\n",
        "print(\"--------------------------------------------------------------\")\n",
        "\n",
        "print(\"\\n🎉 Processo de planejamento de viagem concluído! 🎉\")"
      ],
      "metadata": {
        "colab": {
          "base_uri": "https://localhost:8080/",
          "height": 1000
        },
        "id": "e1jZ0IHoSkJ9",
        "outputId": "a6ab35af-f013-477f-fdf4-f1144c56374e"
      },
      "execution_count": 213,
      "outputs": [
        {
          "output_type": "stream",
          "name": "stdout",
          "text": [
            "🚀 Iniciando o Sistema de Validação de Viagem Técnica 🚀\n",
            "Data da solicitação:  17/05/2025\n",
            "❓ Por favor, digite o CEP da empresa que receberá a manutenção: 68906-970\n",
            "--------------------------------------------------------------\n",
            "\n",
            "--- 📝 Resultado do Agente 1 (Trajeto) ---\n"
          ]
        },
        {
          "output_type": "display_data",
          "data": {
            "text/plain": [
              "<IPython.core.display.Markdown object>"
            ],
            "text/markdown": "> ## Planejamento do Trajeto Inicial\n> - **Data da Solicitação:** 17/05/2025\n> - **CEP do Cliente:** 68906-970\n> - **Cidade e Estado de Destino:** Macapá, Amapá\n> ---\n> - **DATA DE PARTIDA DA VIAGEM (DE TUBARÃO):** 19/05/2025\n> - **HORÁRIO DE PARTIDA ESTIMADO (DE TUBARÃO):** 07:00\n> - **DATA DE CHEGADA ESTIMADA (NO DESTINO):** 20/05/2025\n> - **HORÁRIO DE CHEGADA ESTIMADO (NO DESTINO):** 09:00\n> ---\n> - **DATA DE PARTIDA DO RETORNO (DO DESTINO):** 21/05/2025\n> - **HORÁRIO DE PARTIDA ESTIMADO (DO DESTINO):** 18:00\n> - **DATA DE CHEGADA ESTIMADA (EM TUBARÃO - FINAL):** 22/05/2025\n> - **HORÁRIO DE CHEGADA ESTIMADO (EM TUBARÃO - FINAL):** 21:00\n> ---\n> - **Meios de Transporte Utilizados (Ida e Volta):** Carro até FLN, depois Avião\n> - **Estimativa de Dias Fora:** 4\n> - **Necessidade de Hospedagem:** Sim\n> - **Observações do Trajeto:** Partida de Tubarão às 7h do dia 19/05/2025 (segunda-feira) para chegada no aeroporto de Florianópolis (FLN) com 3 horas de antecedência para voo até Macapá. Chegada em Macapá no dia 20/05/2025 (terça-feira) às 09:00. Manutenção será realizada no dia 20/05/2025 (terça-feira) às 08:00 com hospedagem. Retorno de Macapá no dia 21/05/2025 (quarta-feira) às 18:00, chegando em Tubarão no dia 22/05/2025 (quinta-feira) às 21:00.\n> \n"
          },
          "metadata": {}
        },
        {
          "output_type": "stream",
          "name": "stdout",
          "text": [
            "--------------------------------------------------------------\n",
            "\n",
            "--- 📝 Resultado do Agente 2 (Itinerário Detalhado) ---\n"
          ]
        },
        {
          "output_type": "display_data",
          "data": {
            "text/plain": [
              "<IPython.core.display.Markdown object>"
            ],
            "text/markdown": "> Okay, estou analisando as informações do trajeto para Macapá e montando as opções de transporte.\n> \n> \n> ## 1. Opções de Passagens (Florianópolis - Macapá)\n> \n> ### Opção Principal Aérea: Azul Linhas Aéreas\n> - **Rota:** Florianópolis (FLN) para Macapá (MCP)\n> - **Datas Pesquisadas:** IDA: 19/05/2025, VOLTA: 21/05/2025\n> - **Observações:** Opções da Azul e Latam foram encontradas para o trecho. Os preços podem variar dependendo da data da reserva e da disponibilidade. Voos de volta com a Azul, partindo de Macapá em 17 de setembro de 2025, chegando em Florianópolis, a partir de R$ 690.\n> \n> ## 2. Pedágios (Trecho: Tubarão, SC - Aeroporto de Florianópolis, SC)\n> - **Praças de Pedágio Encontradas (Estimativa):**\n>     *   BR-101/SC, km 243, Palhoça.\n>     *   BR-101/SC, km 299, Laguna.\n>     *   BR-101/SC, km 344, Tubarão.\n>     *   BR-101/SC, km 404, Araranguá.\n>     *   BR-101/SC, km 457, São João do Sul.\n> \n> Os valores para carros de passeio são de R$ 2,40 por praça. O valor total estimado de pedágios no trecho é de R$ 12,00.\n> \n> **Estimativa de Viagens de Uber em Macapá:**\n> \n> Considerando que o técnico precisará se deslocar do aeroporto para o local de manutenção e posteriormente para o hotel, além de outros deslocamentos:\n> \n> *   Uma estimativa do custo de Uber de Macapá para o Aeroporto Internacional de Macapá - Alberto Alcolumbre pode variar entre R$7 e R$9.\n> *   Para estimar o custo de outras viagens, pode-se usar uma média de R$1,22 por km rodado em Macapá.\n> *   Considerando alguns deslocamentos diários, é possível estimar cerca de 4 a 6 corridas de Uber durante a estadia.\n> \n> \n"
          },
          "metadata": {}
        },
        {
          "output_type": "stream",
          "name": "stdout",
          "text": [
            "--------------------------------------------------------------\n",
            "\n",
            "--- 📝 Resultado do Agente 3 (Hospedagem) ---\n"
          ]
        },
        {
          "output_type": "display_data",
          "data": {
            "text/plain": [
              "<IPython.core.display.Markdown object>"
            ],
            "text/markdown": "> ## Sugestão de Hospedagem\n> - **Necessidade de Hospedagem:** Sim\n> - **Hotel Sugerido:** Amapá Hotel\n> - **Endereço:** Rua Tiradentes, 303, Macapá - AP, 68900-098\n> - **Valor Estimado da Diária (se encontrado):** R$ 231 (Estimativa, confirmar)\n> - **Observações:** Hotel bem avaliado e centralmente localizado em Macapá. Oferece café da manhã com culinária regional. Está a aproximadamente 1.7km do centro.\n"
          },
          "metadata": {}
        },
        {
          "output_type": "stream",
          "name": "stdout",
          "text": [
            "--------------------------------------------------------------\n",
            "\n",
            "--- 📝 Resultado do Agente 4 (Alimentação) ---\n"
          ]
        },
        {
          "output_type": "display_data",
          "data": {
            "text/plain": [
              "<IPython.core.display.Markdown object>"
            ],
            "text/markdown": "> Para calcular o número total de refeições, vamos analisar cada dia da viagem:\n> \n> *   **19/05/2025 (Partida):** Café da manhã, almoço e jantar. (3 refeições)\n> *   **20/05/2025 (Chegada):** Café da manhã e almoço. (2 refeições)\n> *   **21/05/2025 (Retorno):** Café da manhã, almoço e jantar. (3 refeições)\n> *   **22/05/2025 (Chegada em Tubarão):** Café da manhã, almoço e jantar. (3 refeições)\n> \n> - **Número total de refeições:** 11\n> \n"
          },
          "metadata": {}
        },
        {
          "output_type": "stream",
          "name": "stdout",
          "text": [
            "--------------------------------------------------------------\n",
            "\n",
            "--- 📝 Resultado do Agente 5 (Saúde) ---\n"
          ]
        },
        {
          "output_type": "display_data",
          "data": {
            "text/plain": [
              "<IPython.core.display.Markdown object>"
            ],
            "text/markdown": "> Com base nas informações fornecidas, o destino da viagem é Macapá, Amapá. Abaixo estão as recomendações de saúde para esta localidade:\n> \n> \n> ## Recomendações de Saúde para Macapá, Amapá\n> \n> - **Vacinas Recomendadas/Obrigatórias:**\n>     - **Febre Amarela:** A vacinação contra a febre amarela é recomendada para viajantes com destino a Macapá, Amapá, e deve ser administrada pelo menos 10 dias antes da viagem. O governo do Amapá tem reforçado a vacinação, inclusive em portos. Uma dose da vacina confere proteção por toda a vida. A vacina é contraindicada para gestantes, imunodeprimidos e alérgicos a gema de ovo. Pessoas acima de 60 anos devem consultar um médico antes de se vacinar.\n>     - **Dengue, Influenza e COVID-19:** Imunização disponível nas Unidades Básicas de Saúde (UBSs) de Macapá. A dose de reforço contra a Dengue está disponível para aqueles que tomaram a 1ª dose. A vacinação contra a COVID-19 é dedicada a crianças, gestantes e idosos.\n>     - **Rotavírus:** O governo do Amapá ampliou a faixa etária para doses da vacina contra o rotavírus em crianças, seguindo as recomendações do Ministério da Saúde.\n> \n> - **Precauções Contra Doenças Transmitidas por Mosquitos:**\n>     - **Doenças transmitidas pelo Aedes aegypti (Dengue, Zika, Chikungunya):** Há um aumento nos índices dessas doenças no Amapá. A cidade de Macapá apresentou médio risco de infestação pelo Aedes aegypti.\n>     - **Febre Amarela:** Transmitida por mosquitos silvestres.\n>     - **Dicas gerais:** É recomendado manter ambientes limpos e livres de água parada para evitar a proliferação de mosquitos. O uso de repelentes e roupas adequadas também é indicado.\n> \n> - **Cuidados com Água e Alimentos:**\n>     - É importante manter uma alimentação equilibrada, evitando longos períodos sem se alimentar e priorizando alimentos ricos em energia.\n>     - Cuidado com alimentos vendidos nas festas, preferindo lanches refrigerados e evitando molhos e frituras.\n>     - A higienização dos alimentos é fundamental para prevenir doenças.\n>     - É recomendado beber de dois a três litros de água por dia para evitar a desidratação.\n> \n> - **Outras Dicas de Saúde:**\n>     - Durante o período chuvoso, há um aumento no risco de contágio com vírus respiratórios. Evite aglomerações, use máscaras em caso de sintomas gripais e mantenha a higiene das mãos.\n>     - Lavar bem as mãos antes de preparar alimentos e ao se alimentar.\n>     - Ao espirrar, cobrir o rosto com o braço e lavar as mãos.\n> \n> ---\n> **Atenção:** Estas são recomendações gerais. É fundamental que o técnico **consulte um médico ou um Centro de Orientação ao Viajante antes da viagem** para obter aconselhamento de saúde personalizado e atualizado para a região de destino.\n> \n"
          },
          "metadata": {}
        },
        {
          "output_type": "stream",
          "name": "stdout",
          "text": [
            "--------------------------------------------------------------\n",
            "\n",
            "--- 📝 Resultado do Agente 6 (Revisão Final) ---\n"
          ]
        },
        {
          "output_type": "display_data",
          "data": {
            "text/plain": [
              "<IPython.core.display.Markdown object>"
            ],
            "text/markdown": "> ## Relatório de Revisão do Planejamento de Viagem\n> \n> ### Status Geral da Revisão:\n> - Requer Ajustes\n> \n> ---\n> ### Pontos Verificados e Comentários:\n> 1.  **Consistência e Lógica do Planejamento (Trajeto, Itinerário, Hospedagem, Alimentação):**\n>     - **Status:** Atenção Necessária\n>     - **Comentário:** Há uma inconsistência na quantidade de refeições. O cálculo indica 11 refeições, mas a discriminação dos custos de alimentação indica 9 refeições. É necessário revisar e corrigir a quantidade de refeições e o custo total da alimentação. Além disso, o valor da diária do hotel foi alterado entre a sugestão de hospedagem (R$ 231) e a consolidação de custos (R$ 375,25), necessitando de ajuste.\n> \n> 2.  **Aderência às Diretrizes da Empresa:**\n>     - **Status:** OK\n>     - **Comentário:** Até o momento, o planejamento parece aderir às diretrizes da empresa, considerando as informações fornecidas.\n> \n> 3.  **Recomendações de Saúde:**\n>     - **Status:** Incompletas\n>     - **Comentário:** Não há recomendações de saúde específicas para Macapá, Amapá. É crucial incluir informações relevantes sobre vacinação (ex: febre amarela), profilaxia (ex: malária, se aplicável) e cuidados com a saúde (alimentação, água, etc.) na região. Além disso, deve ser incluído o aviso para consulta médica antes da viagem.\n> \n> ### Recomendações / Ações Necessárias (se houver):\n> - [Corrigir a inconsistência no número de refeições e recalcular o custo total da alimentação.]\n> - [Verificar e corrigir o valor da diária do hotel na consolidação de custos.]\n> - [Adicionar recomendações de saúde específicas para Macapá, incluindo vacinação, profilaxia e cuidados gerais, além do aviso para consulta médica.]\n> \n> ---\n> **Conclusão da Revisão:** O planejamento requer ajustes para garantir a precisão dos custos e a segurança do viajante.\n> \n"
          },
          "metadata": {}
        },
        {
          "output_type": "stream",
          "name": "stdout",
          "text": [
            "--------------------------------------------------------------\n",
            "\n",
            "--- 📑 Resultado do Agente 7 (Relatório Final) ---\n"
          ]
        },
        {
          "output_type": "display_data",
          "data": {
            "text/plain": [
              "<IPython.core.display.Markdown object>"
            ],
            "text/markdown": "> ```markdown\n> ----------------------------------------------------\n> **RELATÓRIO DE PLANEJAMENTO DE VIAGEM TÉCNICA**\n> ----------------------------------------------------\n> **Data da Solicitação:** 17/05/2025\n> **CEP Destino:** 68906-970\n> **Cidade/Estado Destino:** Macapá, Amapá\n> \n> **1. RESUMO DO TRAJETO:**\n>    - **Dias Fora:** 4\n>    - **Meios de Transporte:** Carro até FLN, depois Avião\n>    - **Partida de Tubarão:** 19/05/2025, 07:00\n>    - **Chegada ao Destino:** 20/05/2025, 09:00\n>    - **Partida do Destino (Retorno):** 21/05/2025, 18:00\n>    - **Chegada em Tubarão (Retorno):** 22/05/2025, 21:00\n> \n> **2. INFORMAÇÕES DE VIAGEM (OPÇÕES E SUGESTÕES):**\n>    - **Transporte Principal (Aéreo/Ônibus):** Opção Azul Linhas Aéreas, estimativa R$ 551.00 (confirmar)\n>    - **Transporte Local (Pedágios/Uber):** Pedágios estimados em R$ 12.00, Uber em Macapá estimado em R$ 15.00.\n>    - **Hospedagem:** Hotel Amapá Hotel, diária estimada R$ 231 (confirmar)\n>    - **Alimentação:** 11 refeições previstas\n> \n> **3. RECOMENDAÇÕES DE SAÚDE (Macapá, Amapá):**\n>    - Recomenda-se fortemente a vacinação contra a febre amarela, já que o Amapá é uma área de risco. Avaliar com seu médico a necessidade de profilaxia para malária, dependendo das áreas a serem visitadas em Macapá. Tenha cuidado com a alimentação e a água consumida, priorizando água engarrafada e alimentos bem cozidos.\n>    - **Atenção:** É fundamental que o técnico **consulte um médico** antes da viagem para aconselhamento personalizado.\n> \n> **4. OBSERVAÇÕES DA REVISÃO:**\n>    - O planejamento requer ajustes para garantir a precisão dos custos e a segurança do viajante. É necessário corrigir a inconsistência no número de refeições e recalcular o custo total da alimentação. Verificar e corrigir o valor da diária do hotel na consolidação de custos.\n> ----------------------------------------------------\n> ```\n"
          },
          "metadata": {}
        },
        {
          "output_type": "stream",
          "name": "stdout",
          "text": [
            "--------------------------------------------------------------\n",
            "\n",
            "🎉 Processo de planejamento de viagem concluído! 🎉\n"
          ]
        }
      ]
    },
    {
      "cell_type": "code",
      "source": [],
      "metadata": {
        "id": "HKqldm8B8_Qe"
      },
      "execution_count": 213,
      "outputs": []
    }
  ]
}